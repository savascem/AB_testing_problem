{
 "cells": [
  {
   "attachments": {},
   "cell_type": "markdown",
   "metadata": {},
   "source": [
    "--------------------------------------------------------------------------------------------------------------------------\n",
    "# Comparison of AB Test and Conversion of Bidding Methods\n",
    "--------------------------------------------------------------------------------------------------------------------------"
   ]
  },
  {
   "attachments": {},
   "cell_type": "markdown",
   "metadata": {},
   "source": [
    "## TODO 1:  Data Prepare & Analyze"
   ]
  },
  {
   "cell_type": "code",
   "execution_count": 45,
   "metadata": {},
   "outputs": [],
   "source": [
    "# import\n",
    "\n",
    "import itertools\n",
    "import numpy as np\n",
    "import pandas as pd\n",
    "import matplotlib.pyplot as plt\n",
    "import seaborn as sns\n",
    "# !pip install statsmodels\n",
    "import statsmodels.stats.api as sms\n",
    "from scipy.stats import ttest_1samp, shapiro, levene, ttest_ind, mannwhitneyu, \\\n",
    "    pearsonr, spearmanr, kendalltau, f_oneway, kruskal\n",
    "from statsmodels.stats.proportion import proportions_ztest"
   ]
  },
  {
   "cell_type": "code",
   "execution_count": 46,
   "metadata": {},
   "outputs": [
    {
     "name": "stdout",
     "output_type": "stream",
     "text": [
      "-------------------------------------------------- \n",
      " df_control head: \n",
      "       Impression        Click    Purchase      Earning\n",
      "0   82529.459271  6090.077317  665.211255  2311.277143\n",
      "1   98050.451926  3382.861786  315.084895  1742.806855\n",
      "2   82696.023549  4167.965750  458.083738  1797.827447\n",
      "3  109914.400398  4910.882240  487.090773  1696.229178\n",
      "4  108457.762630  5987.655811  441.034050  1543.720179\n",
      "-------------------------------------------------- \n",
      " df_test head: \n",
      "       Impression        Click    Purchase      Earning\n",
      "0  120103.503796  3216.547958  702.160346  1939.611243\n",
      "1  134775.943363  3635.082422  834.054286  2929.405820\n",
      "2  107806.620788  3057.143560  422.934258  2526.244877\n",
      "3  116445.275526  4650.473911  429.033535  2281.428574\n",
      "4  145082.516838  5201.387724  749.860442  2781.697521\n"
     ]
    }
   ],
   "source": [
    "# Step 1: Read the dataset consisting of control and test group data named ab_testing_data.xlsx. \n",
    "# Assign the control and test group data to separate variables.\n",
    "\n",
    "df_control = pd.read_excel(\"ab_testing.xlsx\", sheet_name=\"Control Group\")\n",
    "df_test = pd.read_excel(\"ab_testing.xlsx\", sheet_name=\"Test Group\")\n",
    "\n",
    "print(\"-\"*50, \"\\n df_control head: \\n\", df_control.head())\n",
    "print(\"-\"*50, \"\\n df_test head: \\n\", df_test.head())"
   ]
  },
  {
   "cell_type": "code",
   "execution_count": 47,
   "metadata": {},
   "outputs": [
    {
     "name": "stdout",
     "output_type": "stream",
     "text": [
      "-------------------------------------------------- \n",
      " df_control describe: \n",
      "             count           mean           std           min           25%  \\\n",
      "Impression   40.0  101711.449068  20302.157862  45475.942965  85726.690349   \n",
      "Click        40.0    5100.657373   1329.985498   2189.753157   4124.304129   \n",
      "Purchase     40.0     550.894059    134.108201    267.028943    470.095533   \n",
      "Earning      40.0    1908.568300    302.917783   1253.989525   1685.847205   \n",
      "\n",
      "                     50%            75%            max  \n",
      "Impression  99790.701078  115212.816543  147539.336329  \n",
      "Click        5001.220602    5923.803596    7959.125069  \n",
      "Purchase      531.206307     637.957088     801.795020  \n",
      "Earning      1975.160522    2119.802784    2497.295218  \n",
      "-------------------------------------------------- \n",
      " df_test describe: \n",
      "             count           mean           std           min            25%  \\\n",
      "Impression   40.0  120512.411758  18807.448712  79033.834921  112691.970770   \n",
      "Click        40.0    3967.549761    923.095073   1836.629861    3376.819024   \n",
      "Purchase     40.0     582.106097    161.152513    311.629515     444.626828   \n",
      "Earning      40.0    2514.890733    282.730852   1939.611243    2280.537426   \n",
      "\n",
      "                      50%            75%            max  \n",
      "Impression  119291.300775  132050.578933  158605.920483  \n",
      "Click         3931.359804    4660.497911    6019.695079  \n",
      "Purchase       551.355732     699.862360     889.910460  \n",
      "Earning       2544.666107    2761.545405    3171.489708  \n"
     ]
    }
   ],
   "source": [
    "# Step 2: Analyze the control and test group data.\n",
    "\n",
    "print(\"-\"*50, \"\\n df_control describe: \\n\", df_control.describe().T)\n",
    "print(\"-\"*50, \"\\n df_test describe: \\n\", df_test.describe().T)"
   ]
  },
  {
   "cell_type": "code",
   "execution_count": 48,
   "metadata": {},
   "outputs": [
    {
     "name": "stdout",
     "output_type": "stream",
     "text": [
      "                    Impression        Click    Purchase      Earning\n",
      "control_data 0    82529.459271  6090.077317  665.211255  2311.277143\n",
      "             1    98050.451926  3382.861786  315.084895  1742.806855\n",
      "             2    82696.023549  4167.965750  458.083738  1797.827447\n",
      "             3   109914.400398  4910.882240  487.090773  1696.229178\n",
      "             4   108457.762630  5987.655811  441.034050  1543.720179\n",
      "...                        ...          ...         ...          ...\n",
      "test_data    35   79234.911929  6002.213585  382.047116  2277.863984\n",
      "             36  130702.239410  3626.320072  449.824592  2530.841327\n",
      "             37  116481.873365  4702.782468  472.453725  2597.917632\n",
      "             38   79033.834921  4495.428177  425.359102  2595.857880\n",
      "             39  102257.454089  4800.068321  521.310729  2967.518390\n",
      "\n",
      "[80 rows x 4 columns]\n"
     ]
    }
   ],
   "source": [
    "# Step 3: After the analysis, merge the control and test group data using the concat method.\n",
    "\n",
    "df = pd.concat([df_control, df_test], keys=(\"control_data\", \"test_data\"))\n",
    "print(df)"
   ]
  },
  {
   "attachments": {},
   "cell_type": "markdown",
   "metadata": {},
   "source": [
    "---------------------------------------------------------------------------------------------------------------------------\n",
    "## Task 2: Defining the Hypothesis of A/B Test"
   ]
  },
  {
   "attachments": {},
   "cell_type": "markdown",
   "metadata": {},
   "source": [
    "A Group = df_control, This is because the maximum bidding method was applied to this one.\n",
    "\n",
    "B Group = df_test, This is because the average bidding method was applied to this one.\n",
    "\n",
    "I want to analyze 3 distinct scenarios.\n",
    "*  Hypothesis 1): \n",
    "\n",
    "    H0: df_control[\"Purchase\"].mean() == df.test[\"Purchase\"].mean() | The average purchase value is equal for 'maximum bidding' and 'average bidding'.\n",
    "    \n",
    "    H1: df_control[\"Purchase\"].mean() != df.test[\"Purchase\"].mean() | ..... not equal.\n",
    "\n",
    "*   Hypothesis 2): \n",
    "\n",
    "    x = df_control[\"Purchase\"] / df_control[\"Earning\"] | y = df_test[\"Purchase\"] / df_test[\"Earning\"] \n",
    "\n",
    "    H0: x == y | 'Purchase'/'Earning' value is equal for 'maximumbidding' and 'averagebidding'.\n",
    "    \n",
    "    H1: x != y | ..... not equal.\n",
    "\n",
    "*   Hypothesis 3): \n",
    "\n",
    "    x = df_control[\"Click\"] / df_control[\"Impression\"] | y = df_test[\"Click\"] / df_test[\"Impression\"] \n",
    "\n",
    "    H0: x == y | 'Click'/'Purchase' value is equal for 'maximumbidding' and 'averagebidding'.\n",
    "    \n",
    "    H1: x != y | ..... not equal."
   ]
  },
  {
   "attachments": {},
   "cell_type": "markdown",
   "metadata": {},
   "source": [
    "---------------------------------------------------------------------------------------------------------------------------\n",
    "## TASK 3: Performing the Hypothesis Test"
   ]
  },
  {
   "attachments": {},
   "cell_type": "markdown",
   "metadata": {},
   "source": [
    "#### Hypothesis 1)"
   ]
  },
  {
   "cell_type": "code",
   "execution_count": 51,
   "metadata": {},
   "outputs": [
    {
     "name": "stdout",
     "output_type": "stream",
     "text": [
      " df_control[Purchase]:\n",
      " Test Stat = 0.9773, p-value = 0.5891\n",
      " df_test[Purchase]:\n",
      " Test Stat = 0.9589, p-value = 0.1541\n"
     ]
    }
   ],
   "source": [
    "# Assumption Testing\n",
    "\n",
    "# Normality Assumption:\n",
    "\n",
    "test_stat, pvalue = shapiro(df_control[\"Purchase\"])\n",
    "print(\" df_control[Purchase]:\\n\",'Test Stat = %.4f, p-value = %.4f' % (test_stat, pvalue))\n",
    "\n",
    "test_stat, pvalue = shapiro(df_test[\"Purchase\"])\n",
    "print(\" df_test[Purchase]:\\n\",'Test Stat = %.4f, p-value = %.4f' % (test_stat, pvalue))"
   ]
  },
  {
   "cell_type": "code",
   "execution_count": 52,
   "metadata": {},
   "outputs": [
    {
     "name": "stdout",
     "output_type": "stream",
     "text": [
      "mannwhitneyu test score:\n",
      " Test Stat = 723.0000, p-value = 0.4617\n"
     ]
    }
   ],
   "source": [
    "# Since the p-value of df_test[Purchase] is less than 0.05, the H0 hypothesis is rejected. \n",
    "# Since the normality assumption is not satisfied, we will apply the Mannwhitneyu test directly.\n",
    "\n",
    "# Mannwhitneyu Test:\n",
    "test_stat, pvalue = mannwhitneyu(df_control[\"Purchase\"],\n",
    "                                 df_test[\"Purchase\"])\n",
    "\n",
    "print(\"mannwhitneyu test score:\\n\", 'Test Stat = %.4f, p-value = %.4f' % (test_stat, pvalue))"
   ]
  },
  {
   "attachments": {},
   "cell_type": "markdown",
   "metadata": {},
   "source": [
    "#### Hypothesis 2)"
   ]
  },
  {
   "cell_type": "code",
   "execution_count": 53,
   "metadata": {},
   "outputs": [
    {
     "name": "stdout",
     "output_type": "stream",
     "text": [
      "Test Stat = 4.3151, p-value = 0.0000\n"
     ]
    }
   ],
   "source": [
    "# We can apply the ratio test because our sample size is greater than 30.\n",
    "\n",
    "test_stat, pvalue = proportions_ztest(count=[df_control[\"Purchase\"].mean(), df_test[\"Purchase\"].mean()],\n",
    "                                      nobs=[df_control[\"Earning\"].mean(), df_test[\"Earning\"].mean()])\n",
    "\n",
    "print('Test Stat = %.4f, p-value = %.4f' % (test_stat, pvalue))"
   ]
  },
  {
   "attachments": {},
   "cell_type": "markdown",
   "metadata": {},
   "source": [
    "#### Hypothesis 3)"
   ]
  },
  {
   "cell_type": "code",
   "execution_count": 54,
   "metadata": {},
   "outputs": [
    {
     "name": "stdout",
     "output_type": "stream",
     "text": [
      "Test Stat = 20.4489, p-value = 0.0000\n"
     ]
    }
   ],
   "source": [
    "test_stat, pvalue = proportions_ztest(count=[df_control[\"Click\"].mean(), df_test[\"Click\"].mean()],\n",
    "                                      nobs=[df_control[\"Impression\"].mean(), df_test[\"Impression\"].mean()])\n",
    "\n",
    "print('Test Stat = %.4f, p-value = %.4f' % (test_stat, pvalue))"
   ]
  },
  {
   "attachments": {},
   "cell_type": "markdown",
   "metadata": {},
   "source": [
    "---------------------------------------------------------------------------------------------------------------------------\n",
    "## TASK 4: Analysis of Results"
   ]
  },
  {
   "attachments": {},
   "cell_type": "markdown",
   "metadata": {},
   "source": [
    "#### Step 1:Can you interpret the results?\n",
    "* Hypothesis 1):\n",
    "  \n",
    "  Since the p-value is less than 0.05, the null hypothesis (H0) is rejected, and the alternative hypothesis (H1) is accepted.\n",
    "\n",
    "* Hypothesis 2):\n",
    "  \n",
    "  Since the p-value is less than 0.05, the null hypothesis (H0) is rejected, and the alternative hypothesis (H1) is accepted.\n",
    "\n",
    "* Hypothesis 3):\n",
    "  \n",
    "  Since the p-value is less than 0.05, the null hypothesis (H0) is rejected, and the alternative hypothesis (H1) is accepted."
   ]
  },
  {
   "attachments": {},
   "cell_type": "markdown",
   "metadata": {},
   "source": [
    "#### Step 2: What test did you use and why?\n",
    "\n",
    "I used Mannwhitneyu test for the first hypothesis because assumptions were not met. \n",
    "\n",
    "For the second and third hypotheses, I used proportions_ztest because we compared ratios."
   ]
  },
  {
   "attachments": {},
   "cell_type": "markdown",
   "metadata": {},
   "source": [
    "\n",
    "#### Step 3: Based on the test results, provide recommendations to the customer.\n",
    "\n",
    "We can say that the Average Bidding model improved the sales/earnings ratio in a one-month period. We also observed an increase in our sales during this period. However, while the ads are being seen by more customers, the click-through rate per impression has decreased. \n",
    "\n",
    "My suggestion is that the Average Bidding model can continue to be used, and the ads that customers will see should be made more attractive. Thus, we can say that the sales number will increase even more."
   ]
  }
 ],
 "metadata": {
  "kernelspec": {
   "display_name": "base",
   "language": "python",
   "name": "python3"
  },
  "language_info": {
   "codemirror_mode": {
    "name": "ipython",
    "version": 3
   },
   "file_extension": ".py",
   "mimetype": "text/x-python",
   "name": "python",
   "nbconvert_exporter": "python",
   "pygments_lexer": "ipython3",
   "version": "3.9.13"
  },
  "orig_nbformat": 4
 },
 "nbformat": 4,
 "nbformat_minor": 2
}
