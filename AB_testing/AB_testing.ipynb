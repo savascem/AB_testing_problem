{
 "cells": [
  {
   "attachments": {},
   "cell_type": "markdown",
   "metadata": {},
   "source": [
    "--------------------------------------------------------------------------------------------------------------------------\n",
    "# Comparison of AB Test and Conversion of Bidding Methods\n",
    "--------------------------------------------------------------------------------------------------------------------------"
   ]
  },
  {
   "attachments": {},
   "cell_type": "markdown",
   "metadata": {},
   "source": [
    "## TODO 1:  Data Prepare & Analyze"
   ]
  },
  {
   "cell_type": "code",
   "execution_count": 1,
   "metadata": {},
   "outputs": [],
   "source": [
    "# import\n",
    "\n",
    "import itertools\n",
    "import numpy as np\n",
    "import pandas as pd\n",
    "import matplotlib.pyplot as plt\n",
    "import seaborn as sns\n",
    "# !pip install statsmodels\n",
    "import statsmodels.stats.api as sms\n",
    "from scipy.stats import ttest_1samp, shapiro, levene, ttest_ind, mannwhitneyu, \\\n",
    "    pearsonr, spearmanr, kendalltau, f_oneway, kruskal\n",
    "from statsmodels.stats.proportion import proportions_ztest"
   ]
  },
  {
   "cell_type": "code",
   "execution_count": 10,
   "metadata": {},
   "outputs": [
    {
     "name": "stdout",
     "output_type": "stream",
     "text": [
      "-------------------------------------------------- \n",
      " df_control head: \n",
      "       Impression        Click    Purchase      Earning    group\n",
      "0   82529.459271  6090.077317  665.211255  2311.277143  Control\n",
      "1   98050.451926  3382.861786  315.084895  1742.806855  Control\n",
      "2   82696.023549  4167.965750  458.083738  1797.827447  Control\n",
      "3  109914.400398  4910.882240  487.090773  1696.229178  Control\n",
      "4  108457.762630  5987.655811  441.034050  1543.720179  Control\n",
      "-------------------------------------------------- \n",
      " df_test head: \n",
      "       Impression        Click    Purchase      Earning group\n",
      "0  120103.503796  3216.547958  702.160346  1939.611243  Test\n",
      "1  134775.943363  3635.082422  834.054286  2929.405820  Test\n",
      "2  107806.620788  3057.143560  422.934258  2526.244877  Test\n",
      "3  116445.275526  4650.473911  429.033535  2281.428574  Test\n",
      "4  145082.516838  5201.387724  749.860442  2781.697521  Test\n"
     ]
    }
   ],
   "source": [
    "# Step 1: Read the dataset consisting of control and test group data named ab_testing_data.xlsx. \n",
    "# Assign the control and test group data to separate variables.\n",
    "\n",
    "df_control = pd.read_excel(\"ab_testing.xlsx\", sheet_name=\"Control Group\")\n",
    "df_test = pd.read_excel(\"ab_testing.xlsx\", sheet_name=\"Test Group\")\n",
    "df_control[\"group\"] = \"Control\"\n",
    "df_test[\"group\"] = \"Test\"\n",
    "\n",
    "print(\"-\"*50, \"\\n df_control head: \\n\", df_control.head())\n",
    "print(\"-\"*50, \"\\n df_test head: \\n\", df_test.head())"
   ]
  },
  {
   "cell_type": "code",
   "execution_count": 3,
   "metadata": {},
   "outputs": [
    {
     "name": "stdout",
     "output_type": "stream",
     "text": [
      "-------------------------------------------------- \n",
      " df_control describe: \n",
      "             count           mean           std           min           25%  \\\n",
      "Impression   40.0  101711.449068  20302.157862  45475.942965  85726.690349   \n",
      "Click        40.0    5100.657373   1329.985498   2189.753157   4124.304129   \n",
      "Purchase     40.0     550.894059    134.108201    267.028943    470.095533   \n",
      "Earning      40.0    1908.568300    302.917783   1253.989525   1685.847205   \n",
      "\n",
      "                     50%            75%            max  \n",
      "Impression  99790.701078  115212.816543  147539.336329  \n",
      "Click        5001.220602    5923.803596    7959.125069  \n",
      "Purchase      531.206307     637.957088     801.795020  \n",
      "Earning      1975.160522    2119.802784    2497.295218  \n",
      "-------------------------------------------------- \n",
      " df_test describe: \n",
      "             count           mean           std           min            25%  \\\n",
      "Impression   40.0  120512.411758  18807.448712  79033.834921  112691.970770   \n",
      "Click        40.0    3967.549761    923.095073   1836.629861    3376.819024   \n",
      "Purchase     40.0     582.106097    161.152513    311.629515     444.626828   \n",
      "Earning      40.0    2514.890733    282.730852   1939.611243    2280.537426   \n",
      "\n",
      "                      50%            75%            max  \n",
      "Impression  119291.300775  132050.578933  158605.920483  \n",
      "Click         3931.359804    4660.497911    6019.695079  \n",
      "Purchase       551.355732     699.862360     889.910460  \n",
      "Earning       2544.666107    2761.545405    3171.489708  \n"
     ]
    }
   ],
   "source": [
    "# Step 2: Analyze the control and test group data.\n",
    "\n",
    "print(\"-\"*50, \"\\n df_control describe: \\n\", df_control.describe().T)\n",
    "print(\"-\"*50, \"\\n df_test describe: \\n\", df_test.describe().T)"
   ]
  },
  {
   "cell_type": "code",
   "execution_count": 11,
   "metadata": {},
   "outputs": [
    {
     "name": "stdout",
     "output_type": "stream",
     "text": [
      "                 Impression        Click    Purchase      Earning    group\n",
      "Control   0    82529.459271  6090.077317  665.211255  2311.277143  Control\n",
      "          1    98050.451926  3382.861786  315.084895  1742.806855  Control\n",
      "          2    82696.023549  4167.965750  458.083738  1797.827447  Control\n",
      "          3   109914.400398  4910.882240  487.090773  1696.229178  Control\n",
      "          4   108457.762630  5987.655811  441.034050  1543.720179  Control\n",
      "...                     ...          ...         ...          ...      ...\n",
      "Test_data 35   79234.911929  6002.213585  382.047116  2277.863984     Test\n",
      "          36  130702.239410  3626.320072  449.824592  2530.841327     Test\n",
      "          37  116481.873365  4702.782468  472.453725  2597.917632     Test\n",
      "          38   79033.834921  4495.428177  425.359102  2595.857880     Test\n",
      "          39  102257.454089  4800.068321  521.310729  2967.518390     Test\n",
      "\n",
      "[80 rows x 5 columns]\n"
     ]
    }
   ],
   "source": [
    "# Step 3: After the analysis, merge the control and test group data using the concat method.\n",
    "\n",
    "df = pd.concat([df_control, df_test], keys=(\"Control\", \"Test_data\"))\n",
    "print(df)"
   ]
  },
  {
   "attachments": {},
   "cell_type": "markdown",
   "metadata": {},
   "source": [
    "---------------------------------------------------------------------------------------------------------------------------\n",
    "## Task 2: Defining the Hypothesis of A/B Test"
   ]
  },
  {
   "attachments": {},
   "cell_type": "markdown",
   "metadata": {},
   "source": [
    "A Group = df_control, This is because the maximum bidding method was applied to this one.\n",
    "\n",
    "B Group = df_test, This is because the average bidding method was applied to this one.\n",
    "\n",
    "I want to analyze 3 distinct scenarios.\n",
    "*  Hypothesis 1): \n",
    "\n",
    "    H0: df_control[\"Purchase\"].mean() == df.test[\"Purchase\"].mean() | The average purchase value is equal for 'maximum bidding' and 'average bidding'.\n",
    "    \n",
    "    H1: df_control[\"Purchase\"].mean() != df.test[\"Purchase\"].mean() | ..... not equal.\n",
    "\n",
    "*   Hypothesis 2): \n",
    "\n",
    "    x = df_control[\"Purchase\"] / df_control[\"Earning\"] | y = df_test[\"Purchase\"] / df_test[\"Earning\"] \n",
    "\n",
    "    H0: x == y | 'Purchase'/'Earning' value is equal for 'maximumbidding' and 'averagebidding'.\n",
    "    \n",
    "    H1: x != y | ..... not equal.\n",
    "\n",
    "*   Hypothesis 3): \n",
    "\n",
    "    x = df_control[\"Click\"] / df_control[\"Impression\"] | y = df_test[\"Click\"] / df_test[\"Impression\"] \n",
    "\n",
    "    H0: x == y | 'Click'/'Purchase' value is equal for 'maximumbidding' and 'averagebidding'.\n",
    "    \n",
    "    H1: x != y | ..... not equal."
   ]
  },
  {
   "attachments": {},
   "cell_type": "markdown",
   "metadata": {},
   "source": [
    "---------------------------------------------------------------------------------------------------------------------------\n",
    "## TASK 3: Performing the Hypothesis Test"
   ]
  },
  {
   "cell_type": "code",
   "execution_count": 5,
   "metadata": {},
   "outputs": [],
   "source": [
    "# hypothesis test function\n",
    "# This function was shown to us during the Data Science training I received from 'Miuul'. \n",
    "# I liked it a lot, so I wanted to use it here as well.\n",
    "\n",
    "def AB_Test(dataframe, group, target):\n",
    "\n",
    "    # Necessary packages\n",
    "    from scipy.stats import shapiro\n",
    "    import scipy.stats as stats\n",
    "\n",
    "    # # Split A/B\n",
    "    control = dataframe[dataframe[group] == \"Control\"][target] #Old Design\n",
    "    test = dataframe[dataframe[group] == \"Test\"][target] #New Desing\n",
    "\n",
    "    # Assumption of the Normality \n",
    "    normality_control = shapiro(control)[1] < 0.05\n",
    "    normality_test = shapiro(test)[1] < 0.05\n",
    "\n",
    "    # H0: Data follow a normal distribution.- False\n",
    "    # H1: Data do not follow a normal distribution. - True\n",
    "\n",
    "    if (normality_control == False) & (normality_test == False):  # \"H0: Data follow a normal distribution\n",
    "        # Parametric Test\n",
    "        # Assumption: Homogeneity of variances\n",
    "\n",
    "        leveneTest = stats.levene(control, test)[1] < 0.05\n",
    "        # H0: Homogeneity: False\n",
    "        # H1: Heterogeneous: True\n",
    "\n",
    "        if leveneTest == False:\n",
    "            # Homogeneity\n",
    "            ttest = stats.ttest_ind(control, test, equal_var=True)[1] # Attention! equal_var=True\n",
    "            # H0: M1 == M2 - False\n",
    "            # H1: M1 != M2 - True\n",
    "        else:\n",
    "            # Heterogeneous\n",
    "            ttest = stats.ttest_ind(control, test, equal_var=False)[1] #Attention! equal_var=False\n",
    "            # H0: M1 == M2 - False\n",
    "            # H1: M1 != M2 - True\n",
    "    else:\n",
    "        # Non-Parametric Test\n",
    "        ttest = stats.mannwhitneyu(control, test)[1]\n",
    "        # H0: M1 == M2 - False\n",
    "        # H1: M1 != M2 - True\n",
    "\n",
    "    # Result\n",
    "    temp = pd.DataFrame({\n",
    "        \"AB Hypothesis\": [ttest < 0.05],\n",
    "        \"p-value\": [ttest]\n",
    "    })\n",
    "    temp[\"Test Type\"] = np.where((normality_control == False) & (normality_test == False), \"Parametric\", \"Non-Parametric\")\n",
    "    temp[\"AB Hypothesis\"] = np.where(temp[\"AB Hypothesis\"] == False, \"Fail to Reject H0\", \"Reject H0\")\n",
    "    temp[\"Comment\"] = np.where(temp[\"AB Hypothesis\"] == \"Fail to Reject H0\", \"A/B groups are similar!\",\n",
    "                               \"A/B groups are not similar!\")\n",
    "\n",
    "    # Columns\n",
    "    if (normality_control == False) & (normality_test == False):\n",
    "        temp[\"Homogeneity\"] = np.where(leveneTest == False, \"Yes\", \"No\")\n",
    "        temp = temp[[\"Test Type\", \"Homogeneity\", \"AB Hypothesis\", \"p-value\", \"Comment\"]]\n",
    "    else:\n",
    "        temp = temp[[\"Test Type\", \"AB Hypothesis\", \"p-value\", \"Comment\"]]\n",
    "\n",
    "    # Print Hypothesis\n",
    "    print(\"# A/B Testing Hypothesis\")\n",
    "    print(\"H0: A == B\")\n",
    "    print(\"H1: A != B\", \"\\n\")\n",
    "\n",
    "    return temp"
   ]
  },
  {
   "attachments": {},
   "cell_type": "markdown",
   "metadata": {},
   "source": [
    "#### Hypothesis 1)"
   ]
  },
  {
   "cell_type": "code",
   "execution_count": 12,
   "metadata": {},
   "outputs": [
    {
     "name": "stdout",
     "output_type": "stream",
     "text": [
      "# A/B Testing Hypothesis\n",
      "H0: A == B\n",
      "H1: A != B \n",
      "\n"
     ]
    },
    {
     "data": {
      "text/html": [
       "<div>\n",
       "<style scoped>\n",
       "    .dataframe tbody tr th:only-of-type {\n",
       "        vertical-align: middle;\n",
       "    }\n",
       "\n",
       "    .dataframe tbody tr th {\n",
       "        vertical-align: top;\n",
       "    }\n",
       "\n",
       "    .dataframe thead th {\n",
       "        text-align: right;\n",
       "    }\n",
       "</style>\n",
       "<table border=\"1\" class=\"dataframe\">\n",
       "  <thead>\n",
       "    <tr style=\"text-align: right;\">\n",
       "      <th></th>\n",
       "      <th>Test Type</th>\n",
       "      <th>Homogeneity</th>\n",
       "      <th>AB Hypothesis</th>\n",
       "      <th>p-value</th>\n",
       "      <th>Comment</th>\n",
       "    </tr>\n",
       "  </thead>\n",
       "  <tbody>\n",
       "    <tr>\n",
       "      <th>0</th>\n",
       "      <td>Parametric</td>\n",
       "      <td>Yes</td>\n",
       "      <td>Fail to Reject H0</td>\n",
       "      <td>0.349326</td>\n",
       "      <td>A/B groups are similar!</td>\n",
       "    </tr>\n",
       "  </tbody>\n",
       "</table>\n",
       "</div>"
      ],
      "text/plain": [
       "    Test Type Homogeneity      AB Hypothesis   p-value  \\\n",
       "0  Parametric         Yes  Fail to Reject H0  0.349326   \n",
       "\n",
       "                   Comment  \n",
       "0  A/B groups are similar!  "
      ]
     },
     "execution_count": 12,
     "metadata": {},
     "output_type": "execute_result"
    }
   ],
   "source": [
    "AB_Test(df, \"group\", \"Purchase\")"
   ]
  },
  {
   "attachments": {},
   "cell_type": "markdown",
   "metadata": {},
   "source": [
    "#### Hypothesis 2)"
   ]
  },
  {
   "cell_type": "code",
   "execution_count": 8,
   "metadata": {},
   "outputs": [
    {
     "name": "stdout",
     "output_type": "stream",
     "text": [
      "Test Stat = 4.3151, p-value = 0.0000\n"
     ]
    }
   ],
   "source": [
    "# We can apply the ratio test because our sample size is greater than 30.\n",
    "\n",
    "test_stat, pvalue = proportions_ztest(count=[df_control[\"Purchase\"].mean(), df_test[\"Purchase\"].mean()],\n",
    "                                      nobs=[df_control[\"Earning\"].mean(), df_test[\"Earning\"].mean()])\n",
    "\n",
    "print('Test Stat = %.4f, p-value = %.4f' % (test_stat, pvalue))"
   ]
  },
  {
   "attachments": {},
   "cell_type": "markdown",
   "metadata": {},
   "source": [
    "#### Hypothesis 3)"
   ]
  },
  {
   "cell_type": "code",
   "execution_count": 9,
   "metadata": {},
   "outputs": [
    {
     "name": "stdout",
     "output_type": "stream",
     "text": [
      "Test Stat = 20.4489, p-value = 0.0000\n"
     ]
    }
   ],
   "source": [
    "test_stat, pvalue = proportions_ztest(count=[df_control[\"Click\"].mean(), df_test[\"Click\"].mean()],\n",
    "                                      nobs=[df_control[\"Impression\"].mean(), df_test[\"Impression\"].mean()])\n",
    "\n",
    "print('Test Stat = %.4f, p-value = %.4f' % (test_stat, pvalue))"
   ]
  },
  {
   "attachments": {},
   "cell_type": "markdown",
   "metadata": {},
   "source": [
    "---------------------------------------------------------------------------------------------------------------------------\n",
    "## TASK 4: Analysis of Results"
   ]
  },
  {
   "attachments": {},
   "cell_type": "markdown",
   "metadata": {},
   "source": [
    "#### Step 1:Can you interpret the results?\n",
    "* Hypothesis 1):\n",
    "  \n",
    "  Since the p-value is more than 0.05, the null hypothesis (H0) isn't rejected.\n",
    "\n",
    "* Hypothesis 2):\n",
    "  \n",
    "  Since the p-value is less than 0.05, the null hypothesis (H0) is rejected, and the alternative hypothesis (H1) is accepted.\n",
    "\n",
    "* Hypothesis 3):\n",
    "  \n",
    "  Since the p-value is less than 0.05, the null hypothesis (H0) is rejected, and the alternative hypothesis (H1) is accepted."
   ]
  },
  {
   "attachments": {},
   "cell_type": "markdown",
   "metadata": {},
   "source": [
    "\n",
    "#### Step 2: Based on the test results, provide recommendations to the customer.\n",
    "\n",
    "We can say that the Average Bidding model improved the sales/profit ratio in a one-month period. We also observed an increase in our sales during this period. However, while our ads were seen by more customers, the click-through rate per impression decreased.\n",
    "\n",
    "I think we need to perform another A/B test with more observation units to decide whether to continue using the Average Bidding model or not."
   ]
  }
 ],
 "metadata": {
  "kernelspec": {
   "display_name": "base",
   "language": "python",
   "name": "python3"
  },
  "language_info": {
   "codemirror_mode": {
    "name": "ipython",
    "version": 3
   },
   "file_extension": ".py",
   "mimetype": "text/x-python",
   "name": "python",
   "nbconvert_exporter": "python",
   "pygments_lexer": "ipython3",
   "version": "3.9.13"
  },
  "orig_nbformat": 4
 },
 "nbformat": 4,
 "nbformat_minor": 2
}
